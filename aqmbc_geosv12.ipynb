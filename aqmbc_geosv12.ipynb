{
  "nbformat": 4,
  "nbformat_minor": 0,
  "metadata": {
    "colab": {
      "name": "aqmbc_geosv12.ipynb",
      "provenance": [],
      "collapsed_sections": [],
      "authorship_tag": "ABX9TyPtvuJUgtPFbqTsrECvMc9H",
      "include_colab_link": true
    },
    "kernelspec": {
      "name": "python3",
      "display_name": "Python 3"
    }
  },
  "cells": [
    {
      "cell_type": "markdown",
      "metadata": {
        "id": "view-in-github",
        "colab_type": "text"
      },
      "source": [
        "<a href=\"https://colab.research.google.com/github/barronh/aqmbc/blob/master/aqmbc_geosv12.ipynb\" target=\"_parent\"><img src=\"https://colab.research.google.com/assets/colab-badge.svg\" alt=\"Open In Colab\"/></a>"
      ]
    },
    {
      "cell_type": "markdown",
      "metadata": {
        "id": "8a0x9mabsDN7",
        "colab_type": "text"
      },
      "source": [
        "# How to Convert GEOS-Chem to CMAQ-ready Boundary Conditions\n",
        "\n",
        "    author: Barron H. Henderson\n",
        "    date: 2020-03-13\n",
        "    summary: Use benchmark file to make boundary conditions."
      ]
    },
    {
      "cell_type": "markdown",
      "metadata": {
        "id": "Z7TbJ8rHsSux",
        "colab_type": "text"
      },
      "source": [
        "# Overview of aqmbc Repository\n",
        "\n",
        "* This repository is for making Air Quality Model Boundary Conditions\n",
        "  * Really it makes CMAQ-ready boundaries\n",
        "  * CAMx has a converter to go from CMAQ-ready to CAMx-ready.\n",
        "* aqmbc is python-code that depends on `PseudoNetCDF` to:\n",
        "  * Spatial interpolation (nearest neighbor)\n",
        "  * Vertical interpolation (linear for GEOS-Chem; to add mass conserving)\n",
        "  * Species translation \n",
        "  * and CMAQ IOAPI meta data \"decoration\"\n",
        "* Species translations are in `definitions/`\n",
        "  * Please add and update!\n",
        "  * If you do, please submit them for the package to get updated"
      ]
    },
    {
      "cell_type": "markdown",
      "metadata": {
        "id": "iUJ5Z6U8tKDc",
        "colab_type": "text"
      },
      "source": [
        "# Download the aqmbc repo\n",
        "\n",
        "* Using wget to download\n",
        "* and unzip to prepare"
      ]
    },
    {
      "cell_type": "code",
      "metadata": {
        "id": "0ApVtYHUGiU_",
        "colab_type": "code",
        "colab": {}
      },
      "source": [
        "%%bash\n",
        "wget -q https://github.com/barronh/aqmbc/archive/master.zip\n",
        "unzip -q master.zip"
      ],
      "execution_count": 0,
      "outputs": []
    },
    {
      "cell_type": "markdown",
      "metadata": {
        "id": "B68qjwW5za-P",
        "colab_type": "text"
      },
      "source": [
        "# Install Pre-requisites\n",
        "\n",
        "* pyproj is an optional requirement for PseudoNetCDF, but necessary for spatial interpolation.\n",
        "* PseudoNetCDF provides convenience functions like ll2ij and interpSigma\n",
        "  * using GC netCDF requires an update to PseudoNetCDF that is not yet in the main branch.\n"
      ]
    },
    {
      "cell_type": "code",
      "metadata": {
        "id": "DQP-xl2rGb8t",
        "colab_type": "code",
        "colab": {}
      },
      "source": [
        "%%bash\n",
        "pip install -q pyproj\n",
        "pip install -q --no-cache https://github.com/barronh/pseudonetcdf/archive/bugfix/gcnc-interpsigma.zip"
      ],
      "execution_count": 0,
      "outputs": []
    },
    {
      "cell_type": "markdown",
      "metadata": {
        "id": "un0Pb9y3tsyo",
        "colab_type": "text"
      },
      "source": [
        "# Update the working directory\n",
        "\n",
        "* The rest of the notebook focuses on aqmbc\n",
        "* we use cd in the workbook to move there"
      ]
    },
    {
      "cell_type": "code",
      "metadata": {
        "id": "_h02OgE5G1Oj",
        "colab_type": "code",
        "outputId": "df99ac10-3f15-477d-b6d7-b5b8872fa3b4",
        "colab": {
          "base_uri": "https://localhost:8080/",
          "height": 34
        }
      },
      "source": [
        "cd aqmbc-master"
      ],
      "execution_count": 3,
      "outputs": [
        {
          "output_type": "stream",
          "text": [
            "/content/aqmbc-master\n"
          ],
          "name": "stdout"
        }
      ]
    },
    {
      "cell_type": "markdown",
      "metadata": {
        "id": "nCvjULentVB2",
        "colab_type": "text"
      },
      "source": [
        "# Get a GEOS-Chem NetCDF file\n",
        "\n",
        "* Using the v12.7 monthly benchmark output\n",
        "  * Also works with SpeciesBC or any other output\n",
        "  * As long as the definitions match the content.\n",
        "* Downloading with wget to teh aqmbc-master/CONC folder"
      ]
    },
    {
      "cell_type": "code",
      "metadata": {
        "id": "SM5JhH5-Gslg",
        "colab_type": "code",
        "colab": {}
      },
      "source": [
        "%%bash\n",
        "cd /content/aqmbc-master/CONC\n",
        "wget -q http://ftp.as.harvard.edu/gcgrid/geos-chem/1mo_benchmarks/GC_12/12.7.0/GCC/OutputDir/GEOSChem.SpeciesConc.20160701_0000z.nc4"
      ],
      "execution_count": 0,
      "outputs": []
    },
    {
      "cell_type": "markdown",
      "metadata": {
        "id": "OH_yVb2Nt25m",
        "colab_type": "text"
      },
      "source": [
        "# Test Grid\n",
        "\n",
        "* The standard grids are provided for convenience\n",
        "  * the 12km Continental US domain (12US1)\n",
        "  * the 36km North American domain (36US3)\n",
        "  * the 108km Polar Stereographic domain (108NHEMI2)\n",
        "* All are too large for a quick tutorial\n",
        "* We'll use the 144km North American domain (TEST)\n"
      ]
    },
    {
      "cell_type": "code",
      "metadata": {
        "id": "nOPiBGk0BW4b",
        "colab_type": "code",
        "colab": {
          "base_uri": "https://localhost:8080/",
          "height": 306
        },
        "outputId": "e2049f1c-fadb-4591-cbb8-3354a31a58cb"
      },
      "source": [
        "cat GRIDDESC"
      ],
      "execution_count": 5,
      "outputs": [
        {
          "output_type": "stream",
          "text": [
            "' '\n",
            "'POLSTE_HEMI'\n",
            "  6         1.000        45.000       -98.000       -98.000        90.000\n",
            "'LamCon_40N_97W'\n",
            "  2        33.000        45.000       -97.000       -97.000        40.000\n",
            "' '\n",
            "'HEMI_187_187'\n",
            "'POLSTE_HEMI' -10098000.000 -10098000.000    108000.000    108000.000 187 187   1\n",
            "'36US3'\n",
            "'LamCon_40N_97W'  -2952000.000  -2772000.000     36000.000     36000.000 172  148   1\n",
            "'12US1'\n",
            "'LamCon_40N_97W'     -2556000.0 -1728000.0 12000.0 12000.0 459 299 1\n",
            "'12US2'\n",
            "'LamCon_40N_97W'     -2412000.0 -1620000.0 12000.0 12000.0 396 246 1\n",
            "'TEST'\n",
            "'LamCon_40N_97W'  -2952000.000  -2772000.000    144000.000    144000.000 43  37   1\n",
            "' '\n"
          ],
          "name": "stdout"
        }
      ]
    },
    {
      "cell_type": "markdown",
      "metadata": {
        "id": "7P7Be_jezytQ",
        "colab_type": "text"
      },
      "source": [
        "# Run AQMBC\n",
        "\n",
        "Goal: Run a simple test case.\n",
        "\n",
        "* Set GRID to the TEST grid we defined\n",
        "* Set the file pattern to find the SpeciesConc file\n",
        "* Add options\n",
        "  * expressiosn (`--expr`) for gas species translation (aerosols pending)\n",
        "  * interpolation method (`--interp linear`)\n",
        "  * file format (`--format gcnc`)\n",
        "  * and a translator for dimensions\n",
        "* Some options may seem unnecessary, but aqmbc works on many file formats.\n",
        "\n",
        "Notes: \n",
        "* This step will take a minute or so. Coffee break! \n",
        "* On your server, you can run much bigger domains."
      ]
    },
    {
      "cell_type": "code",
      "metadata": {
        "id": "_oQHy6TAITd8",
        "colab_type": "code",
        "colab": {}
      },
      "source": [
        "%%bash\n",
        "export GRID=TEST\n",
        "\n",
        "# Run all or bcon or combine or fig\n",
        "export FILEPAT='GEOSChem.SpeciesConc.*'\n",
        "export BCOPTS=\"--expr ../definitions/gc/gc12_to_cb6r3.expr --interp linear --format gcnc --dimkeys COL=lon,ROW=lat,LAY=lev,TSTEP=time\"\n",
        "make bcon >& bcon.log\n"
      ],
      "execution_count": 0,
      "outputs": []
    },
    {
      "cell_type": "markdown",
      "metadata": {
        "id": "c4ufmRlN0SVb",
        "colab_type": "text"
      },
      "source": [
        "# Visualize CMAQ-Ready BCON\n",
        "\n",
        "Goal: To see what aqmbc made.\n",
        "\n",
        "* Use PseudoNetCDF plot function to make a panel\n",
        "* Add ticks to make the layout clear\n",
        "* once for Ozone and once for NOx"
      ]
    },
    {
      "cell_type": "code",
      "metadata": {
        "id": "tUGxj3ik2lt2",
        "colab_type": "code",
        "colab": {}
      },
      "source": [
        "import PseudoNetCDF as pnc\n",
        "import numpy as np\n",
        "import matplotlib.colors as mc\n",
        "import matplotlib.pyplot as plt"
      ],
      "execution_count": 0,
      "outputs": []
    },
    {
      "cell_type": "code",
      "metadata": {
        "id": "pOutAZORD7Nw",
        "colab_type": "code",
        "outputId": "77cdc0f1-22b9-4902-f0eb-a8e8d50b7468",
        "colab": {
          "base_uri": "https://localhost:8080/",
          "height": 411
        }
      },
      "source": [
        "fig, axx = plt.subplots(1, 2, figsize=(12,6))\n",
        "bconf = pnc.pncopen('BCON/GEOSChem.SpeciesConc.20160701_0000z.nc4.BCON.nc', format='ioapi')\n",
        "plt.sca(axx[0])\n",
        "o3ax = bconf.plot('O3', plottype='PERIM-LAY', plot_kw=dict(norm=mc.LogNorm(vmin=0.02, vmax=0.1)))\n",
        "plt.sca(axx[1])\n",
        "noxax = bconf.eval('NOx = NO[:] + NO2[:]').plot('NOx', plottype='PERIM-LAY', plot_kw=dict(norm=mc.LogNorm(vmin=1e-5, vmax=2e-3)))\n",
        "\n",
        "# See https://www.cmascenter.org/ioapi/documentation/all_versions/html/BDY.jpg\n",
        "for ax in axx:\n",
        "  ax.set_xticks(np.cumsum([0, bconf.NCOLS + 1, bconf.NROWS + 1, bconf.NCOLS + 1, bconf.NROWS + 1]))\n",
        "  ax.set_xticklabels(['SW', 'SE', 'NE|NW', 'NE|SW', 'NW'], horizontalalignment='center');\n",
        "\n",
        "axx[1].set_ylabel('')\n",
        "axx[1].set_yticklabels('')"
      ],
      "execution_count": 8,
      "outputs": [
        {
          "output_type": "execute_result",
          "data": {
            "text/plain": [
              "[]"
            ]
          },
          "metadata": {
            "tags": []
          },
          "execution_count": 8
        },
        {
          "output_type": "display_data",
          "data": {
            "image/png": "[encoded data removed]",
            "text/plain": [
              "<Figure size 864x432 with 4 Axes>"
            ]
          },
          "metadata": {
            "tags": []
          }
        }
      ]
    },
    {
      "cell_type": "markdown",
      "metadata": {
        "id": "hHR0JSyo1eNa",
        "colab_type": "text"
      },
      "source": [
        "# Make a Similar plot from GEOS-Chem\n",
        "\n",
        "Goal: To spot check that the processing makes noinal sense.\n",
        "\n",
        "* Open the original file\n",
        "* Make a 4-panel figure\n",
        "  * make representative slices of the file\n",
        "  * plot them on each axes\n",
        "* Then, restrict GEOS-Chem to similar top pressure\n",
        "\n",
        "Note:\n",
        "1. These won't look the same as CMAQ\n",
        "2. CMAQ has more vertical layer in the near-surface and less in the upper troposphere.\n",
        "3. CMAQ is extracting along a curvilinear space, so the grid cells are not actually a line. This is a rough approximation."
      ]
    },
    {
      "cell_type": "code",
      "metadata": {
        "id": "hZmhuKxNGKMH",
        "colab_type": "code",
        "colab": {}
      },
      "source": [
        "origf = pnc.pncopen('/content/aqmbc-master/CONC/GEOSChem.SpeciesConc.20160701_0000z.nc4', format='gcnc')"
      ],
      "execution_count": 0,
      "outputs": []
    },
    {
      "cell_type": "code",
      "metadata": {
        "id": "I1koiIGEmNB_",
        "colab_type": "code",
        "colab": {
          "base_uri": "https://localhost:8080/",
          "height": 462
        },
        "outputId": "8007a227-61b3-4237-afb3-62103c864fe5"
      },
      "source": [
        "minj, maxj = origf.val2idx('lat', [10, 50])\n",
        "mini, maxi = origf.val2idx('lon', [-130, -45])\n",
        "print('Ignore warning')\n",
        "fig, axx = plt.subplots(1, 4, figsize=(10, 6), gridspec_kw=dict(wspace=0.0))\n",
        "southf = origf.slice(lat=minj, lon=slice(mini, maxi + 1))\n",
        "eastf = origf.slice(lat=slice(minj, maxj + 1), lon=maxi)\n",
        "northf = origf.slice(lat=maxj, lon=slice(mini, maxi + 1))\n",
        "westf = origf.slice(lat=slice(minj, maxj + 1), lon=mini)\n",
        "\n",
        "for f in [southf, eastf, westf, northf]:\n",
        "    del f.variables['lev']\n",
        "\n",
        "plt.sca(axx[0])\n",
        "southf.plot('SpeciesConc_O3', plottype='lon-lev', plot_kw=dict(norm=mc.LogNorm(vmin=0.02e-6, vmax=0.1e-6)))\n",
        "plt.sca(axx[1])\n",
        "eastf.plot('SpeciesConc_O3', plottype='lat-lev', plot_kw=dict(norm=mc.LogNorm(vmin=0.02e-6, vmax=0.1e-6)))\n",
        "plt.sca(axx[2])\n",
        "northf.plot('SpeciesConc_O3', plottype='lon-lev', plot_kw=dict(norm=mc.LogNorm(vmin=0.02e-6, vmax=0.1e-6)))\n",
        "plt.sca(axx[3])\n",
        "westf.plot('SpeciesConc_O3', plottype='lat-lev', plot_kw=dict(norm=mc.LogNorm(vmin=0.02e-6, vmax=0.1e-6)))\n",
        "\n",
        "for ax in axx:\n",
        "  ax.set_ylim(0, 39)\n",
        "\n",
        "\n",
        "plt.setp(fig.axes[-4:-1], visible=False)\n",
        "plt.setp(fig.axes[1:4], ylabel='', yticklabels='');"
      ],
      "execution_count": 10,
      "outputs": [
        {
          "output_type": "stream",
          "text": [
            "**PNC:/usr/local/lib/python3.6/dist-packages/PseudoNetCDF/pncwarn.py:24:UserWarning:\n",
            "  Values are out of bounds:\n",
            "[]\n"
          ],
          "name": "stderr"
        },
        {
          "output_type": "stream",
          "text": [
            "Ignore warning\n"
          ],
          "name": "stdout"
        },
        {
          "output_type": "display_data",
          "data": {
            "image/png": "[encoded data removed]",
            "text/plain": [
              "<Figure size 720x432 with 8 Axes>"
            ]
          },
          "metadata": {
            "tags": []
          }
        }
      ]
    },
    {
      "cell_type": "markdown",
      "metadata": {
        "id": "8-ClMnLVEpZh",
        "colab_type": "text"
      },
      "source": [
        "# More on your own.\n",
        "\n",
        "* you can plot any of the other species\n",
        "* aqmbc makes lateral and initial boundary conditions. To view the surface level, use `iconf.slice(LAY=0).plot('O3')`."
      ]
    },
    {
      "cell_type": "code",
      "metadata": {
        "id": "o--bxY_zE5aS",
        "colab_type": "code",
        "colab": {}
      },
      "source": [
        ""
      ],
      "execution_count": 0,
      "outputs": []
    }
  ]
}