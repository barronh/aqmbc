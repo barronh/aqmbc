{
  "cells": [
    {
      "cell_type": "markdown",
      "metadata": {},
      "source": [
        "\n# Preparing AQMBC Output for CMAQ\n\nCMAQ expects BCON files to have 25 instantaneous outputs that cover from 00Z\non the simulation day to 00Z on the next day. `aqmbc` is run on individual files,\nwhich can be a single hour or a few hours. Therefore, often the `aqmbc` outputs\nneed to be combined.\n\nThis example uses single hour outputs from GEOS-CF to make CMAQ-ready BCON\ninputs. That is what `aqmbc.cmaq.cmaqready` is for. To do its jobs, `cmaqready`\ntakes a `date` to be made, the `inpaths` to make it from, and the outpath to\nsave it to.\n\nThe example below creates two days of output from 18 input files. The\ninputs cover 2023-04-30T21:30Z to 2023-05-03T00:30Z in 3-hour intervals.\nTo create the inputs, modify the geoscf_example.py script to run for more\nhours. The outputs each cover 25 hours from 00Z to 00Z+1day. To run the\nexample, you must have already created the inputs. After the run is complete,\nyou will have the outputs.\n\nRequired Inputs:\n - geoscf_mcx_tavg_1hr_g1440x721_v36_2023-04-30T2130Z_12US1_BCON.nc\n - geoscf_mcx_tavg_1hr_g1440x721_v36_2023-05-01T0030Z_12US1_BCON.nc\n - ... 14 others ...\n - geoscf_mcx_tavg_1hr_g1440x721_v36_2023-05-02T2130Z_12US1_BCON.nc\n - geoscf_mcx_tavg_1hr_g1440x721_v36_2023-05-03T0030Z_12US1_BCON.nc\n\nProduced Outputs:\n - geoscf_mcx_tavg_1hr_g1440x721_v36_2023-05-01_12US1_BCON_hourly.nc\n - geoscf_mcx_tavg_1hr_g1440x721_v36_2023-05-02_12US1_BCON_hourly.nc\n"
      ]
    },
    {
      "cell_type": "markdown",
      "metadata": {},
      "source": [
        "## Import libraries\n\n"
      ]
    },
    {
      "cell_type": "code",
      "execution_count": null,
      "metadata": {
        "collapsed": false
      },
      "outputs": [],
      "source": [
        "from pandas import date_range, to_timedelta\nimport aqmbc"
      ]
    },
    {
      "cell_type": "markdown",
      "metadata": {},
      "source": [
        "## User Inputs\n\n"
      ]
    },
    {
      "cell_type": "code",
      "execution_count": null,
      "metadata": {
        "collapsed": false
      },
      "outputs": [],
      "source": [
        "# Use the domain name for your domain\ngdnam = '12US1'\n\n# Define the date range of interest\noutdates = date_range('2023-05-01', '2023-05-02', freq='1d')\n\n# Define a strftime templates for paths from aqmbc (intmpl) that need to be\n# concatenated and interpolated to make CMAQ-ready files (outtmpl)\nintmpl = f'geoscf_mcx_tavg_1hr_g1440x721_v36_%Y-%m-%dT%H%MZ_{gdnam}_BCON.nc'\nouttmpl = f'geoscf_mcx_tavg_1hr_g1440x721_v36_%Y-%m-%d_{gdnam}_BCON_hourly.nc'"
      ]
    },
    {
      "cell_type": "markdown",
      "metadata": {},
      "source": [
        "## Daily Processing\n\n"
      ]
    },
    {
      "cell_type": "code",
      "execution_count": null,
      "metadata": {
        "collapsed": false
      },
      "outputs": [],
      "source": [
        "# For each output date, concatenate input files and interpolate hourly output.\nfor date in outdates:\n    # Define output path\n    outpath = date.strftime(outtmpl)\n    # Get paths for date-1day 21:30 ... date+1day 00:30 by 3-hours\n    indates = date_range(date, freq='3h', periods=10) + to_timedelta('-2.5h')\n    inpaths = indates.strftime(intmpl)\n    # Make 1 output with 25h from 10 single-hour inputs\n    aqmbc.cmaq.cmaqready(date, inpaths, outpath=outpath)"
      ]
    }
  ],
  "metadata": {
    "kernelspec": {
      "display_name": "Python 3",
      "language": "python",
      "name": "python3"
    },
    "language_info": {
      "codemirror_mode": {
        "name": "ipython",
        "version": 3
      },
      "file_extension": ".py",
      "mimetype": "text/x-python",
      "name": "python",
      "nbconvert_exporter": "python",
      "pygments_lexer": "ipython3",
      "version": "3.13.2"
    }
  },
  "nbformat": 4,
  "nbformat_minor": 0
}