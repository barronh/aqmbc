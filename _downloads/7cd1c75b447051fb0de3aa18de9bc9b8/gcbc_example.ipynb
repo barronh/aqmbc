{
  "cells": [
    {
      "cell_type": "markdown",
      "metadata": {},
      "source": [
        "\n# GEOS-Chem Benchmark LBC for CMAQ\n\nThis example shows how to use aqmbc with GEOS-Chem's publicly available\nbenchmark outputs.\n\n* Dowload from Harvard (if not previously downloaded).\n* Define translations.\n* Extract, translate, and create time-independent files.\n* Display figures and statistics.\n\nTime-independence allows files to be used in CMAQ with multiple dates in the\nsame month, or as a climatology for other years.\n"
      ]
    },
    {
      "cell_type": "code",
      "execution_count": null,
      "metadata": {
        "collapsed": false
      },
      "outputs": [],
      "source": [
        "from os.path import basename, exists\nimport aqmbc\nimport matplotlib.pyplot as plt\nimport requests\nimport tarfile"
      ]
    },
    {
      "cell_type": "markdown",
      "metadata": {},
      "source": [
        "## Download from Harvard\n\n"
      ]
    },
    {
      "cell_type": "code",
      "execution_count": null,
      "metadata": {
        "collapsed": false
      },
      "outputs": [],
      "source": [
        "inpaths = [\n    'OutputDir/GEOSChem.SpeciesConc.20190401_0000z.nc4',\n    'OutputDir/GEOSChem.SpeciesConc.20190701_0000z.nc4',\n]\nif any([not exists(p) for p in inpaths]):\n    # Download 7G tar file\n    rurl = 'http://ftp.as.harvard.edu/gcgrid/geos-chem/1yr_benchmarks/'\n    url = f'{rurl}/14.0.0-rc.0/GCClassic/FullChem/OutputDir.tar.gz'\n    dest = basename(url)\n    if not exists(dest):\n        with requests.get(url, stream=True) as r:\n            r.raise_for_status()\n            with open(dest, 'wb') as f:\n                for chunk in r.iter_content(chunk_size=1024*1024):\n                    f.write(chunk)\n    else:\n        print('Using cached OutputDir.tar.gz')\n\n    # Unzip only files that will be used.\n    tf = tarfile.open(dest)\n    for memb in tf.getmembers():\n        if memb.path in inpaths:\n            if not exists(memb.path):\n                tf.extract(memb)\n            else:\n                print('Using cached', memb.path)"
      ]
    },
    {
      "cell_type": "markdown",
      "metadata": {},
      "source": [
        "## Define Chemical Translation\n\nUsing gc14_o3so4.expr, which only uses ozone and sulfate aerosols.\n\n\n"
      ]
    },
    {
      "cell_type": "code",
      "execution_count": null,
      "metadata": {
        "collapsed": false
      },
      "outputs": [],
      "source": [
        "print(aqmbc.exprlib.avail('gc'))  # Show all possible expressions\nexprpaths = aqmbc.exprlib.exprpaths([                      # for a full run,\n    'gcnc_airmolden.expr',                                 # keep this\n    'gc14_o3so4.expr',                                     # Comment this\n    # 'gc14_to_cb6r5.expr', 'gc14_to_cb6mp.expr',          # Uncomment this\n    # 'gc14_soas_to_ae7.expr'                              # uncomment this\n], prefix='gc')"
      ]
    },
    {
      "cell_type": "markdown",
      "metadata": {},
      "source": [
        "## Tranlate Files and Make Time-independent\n\n"
      ]
    },
    {
      "cell_type": "code",
      "execution_count": null,
      "metadata": {
        "collapsed": false
      },
      "outputs": [],
      "source": [
        "gdnam = '12US1'\ngcdims = aqmbc.options.dims['gc']\nsuffix = f'_{gdnam}_BCON.nc'\nmetaf = aqmbc.options.getmetaf(bctype='bcon', gdnam=gdnam, vgnam='EPA_35L')\n\n# For \"real\" VGLVLS use\n# METBDY3D_PATH = '...'\n# METCRO3D_PATH = '...'\n# metaf = pnc.pncopen(METBDY3D_PATH, format='ioapi').subset(['PRES'])\n# pnc.conventions.ioapi.add_cf_from_ioapi(metaf)\n\nbcpaths = []\nfor inpath in inpaths:\n    print(inpath, flush=True)\n    outpath = basename(inpath).replace('.nc4', suffix)\n    history = f'From {outpath}'\n    outf = aqmbc.bc(\n        inpath, outpath, metaf, vmethod='linear', exprpaths=exprpaths,\n        dimkeys=gcdims, format_kw={'format': 'gcbench'}, history=history,\n        clobber=True, verbose=0, timeindependent=True\n    )\n\n    bcpaths.append(outpath)"
      ]
    },
    {
      "cell_type": "markdown",
      "metadata": {},
      "source": [
        "## Figures and Statistics\n\n"
      ]
    },
    {
      "cell_type": "code",
      "execution_count": null,
      "metadata": {
        "collapsed": false
      },
      "outputs": [],
      "source": [
        "vprof = aqmbc.report.get_vertprof(bcpaths)\nstatdf = aqmbc.report.getstats(bcpaths)\nstatdf.to_csv('gcbc_summary.csv')"
      ]
    },
    {
      "cell_type": "markdown",
      "metadata": {},
      "source": [
        "### Plot Vertical Profiles\n\n"
      ]
    },
    {
      "cell_type": "code",
      "execution_count": null,
      "metadata": {
        "collapsed": false
      },
      "outputs": [],
      "source": [
        "fig = aqmbc.report.plot_2spc_vprof(vprof)\nfig.suptitle('GEOS-Chem v14 Boundary Conditions for CMAQ')\nfig.savefig('gcbc_profiles.png')"
      ]
    },
    {
      "cell_type": "markdown",
      "metadata": {},
      "source": [
        "### Plot Normalized Means\n\n"
      ]
    },
    {
      "cell_type": "code",
      "execution_count": null,
      "metadata": {
        "collapsed": false
      },
      "outputs": [],
      "source": [
        "fig = aqmbc.report.plot_gaspm_bars(statdf)\nfig.savefig('gcbc_bar.png')"
      ]
    }
  ],
  "metadata": {
    "kernelspec": {
      "display_name": "Python 3",
      "language": "python",
      "name": "python3"
    },
    "language_info": {
      "codemirror_mode": {
        "name": "ipython",
        "version": 3
      },
      "file_extension": ".py",
      "mimetype": "text/x-python",
      "name": "python",
      "nbconvert_exporter": "python",
      "pygments_lexer": "ipython3",
      "version": "3.13.2"
    }
  },
  "nbformat": 4,
  "nbformat_minor": 0
}