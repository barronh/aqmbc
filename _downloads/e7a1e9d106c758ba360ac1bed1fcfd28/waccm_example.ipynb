{
  "cells": [
    {
      "cell_type": "markdown",
      "metadata": {},
      "source": [
        "\n# WACCM LBC for CMAQ\n\nThis example shows how to use aqmbc with WACCM's publicly available forecasts.\n\n* Download from waccm (only if not available in WACCM folder).\n* Define translation.\n* Extract and translate.\n* Display figures and statistics.\n"
      ]
    },
    {
      "cell_type": "code",
      "execution_count": null,
      "metadata": {
        "collapsed": false
      },
      "outputs": [],
      "source": [
        "from os.path import basename\nimport aqmbc\nimport matplotlib.pyplot as plt\nimport glob\n\ngdnam = '12US1'"
      ]
    },
    {
      "cell_type": "markdown",
      "metadata": {},
      "source": [
        "## Download from waccm via HTTP\n\n"
      ]
    },
    {
      "cell_type": "code",
      "execution_count": null,
      "metadata": {
        "collapsed": false
      },
      "outputs": [],
      "source": [
        "dates = ['2023-04-15', '2023-07-15']\n\naqmbc.models.waccm.download(dates)"
      ]
    },
    {
      "cell_type": "markdown",
      "metadata": {},
      "source": [
        "## Define Translation Expressions\n\n"
      ]
    },
    {
      "cell_type": "code",
      "execution_count": null,
      "metadata": {
        "collapsed": false
      },
      "outputs": [],
      "source": [
        "# In Notebooks, display available expressions\naqmbc.exprlib.avail('waccm')"
      ]
    },
    {
      "cell_type": "code",
      "execution_count": null,
      "metadata": {
        "collapsed": false
      },
      "outputs": [],
      "source": [
        "exprpaths = aqmbc.exprlib.exprpaths([\n    'waccm_o3so4.expr'                     # for full run, comment this\n    # 'waccm_met.expr', 'waccm_cb6.expr',  # for full run, uncomment this\n    # 'waccm_ae7.expr'                     # for full run, uncomment this\n], prefix='waccm')"
      ]
    },
    {
      "cell_type": "markdown",
      "metadata": {},
      "source": [
        "## Translate WACCM for use by CMAQ\n\n"
      ]
    },
    {
      "cell_type": "code",
      "execution_count": null,
      "metadata": {
        "collapsed": false
      },
      "outputs": [],
      "source": [
        "# For \"real\" VGLVLS use\n# METBDYD_PATH = '...'\n# metaf = pnc.pncopen(METBDY3D_PATH, format='ioapi')\nmetaf = aqmbc.options.getmetaf(bctype='bcon', gdnam=gdnam, vgnam='EPA_35L')\ninpaths = sorted(glob.glob('WACCM/f.e22*.nc'))\nbcpaths = []\nsuffix = f'_{gdnam}_BCON.nc'\ngcdims = aqmbc.options.dims['waccm']\nfor inpath in inpaths:\n    print(inpath, flush=True)\n    outpath = basename(inpath).replace('.nc', suffix)\n    history = f'From {outpath}'\n    outf = aqmbc.bc(\n        inpath, outpath, metaf, vmethod='linear', exprpaths=exprpaths,\n        dimkeys=gcdims, format_kw={'format': 'waccm'}, history=history,\n        clobber=True, verbose=0\n    )\n    bcpaths.append(outpath)"
      ]
    },
    {
      "cell_type": "markdown",
      "metadata": {},
      "source": [
        "## Figures and Statistics\n\n"
      ]
    },
    {
      "cell_type": "code",
      "execution_count": null,
      "metadata": {
        "collapsed": false
      },
      "outputs": [],
      "source": [
        "vprof = aqmbc.report.get_vertprof(bcpaths)\nstatdf = aqmbc.report.getstats(bcpaths)\nstatdf.to_csv('waccm_summary.csv')"
      ]
    },
    {
      "cell_type": "markdown",
      "metadata": {},
      "source": [
        "## Visualize Vertical Profiles\n\n"
      ]
    },
    {
      "cell_type": "code",
      "execution_count": null,
      "metadata": {
        "collapsed": false
      },
      "outputs": [],
      "source": [
        "fig = aqmbc.report.plot_2spc_vprof(vprof)\nfig.suptitle('WACCM Boundary Conditions for CMAQ')\nfig.savefig('waccm_profiles.png')"
      ]
    },
    {
      "cell_type": "markdown",
      "metadata": {},
      "source": [
        "## Barplot of Concentrations\n\n"
      ]
    },
    {
      "cell_type": "code",
      "execution_count": null,
      "metadata": {
        "collapsed": false
      },
      "outputs": [],
      "source": [
        "fig = aqmbc.report.plot_gaspm_bars(statdf)\nfig.savefig('waccm_bar.png')"
      ]
    }
  ],
  "metadata": {
    "kernelspec": {
      "display_name": "Python 3",
      "language": "python",
      "name": "python3"
    },
    "language_info": {
      "codemirror_mode": {
        "name": "ipython",
        "version": 3
      },
      "file_extension": ".py",
      "mimetype": "text/x-python",
      "name": "python",
      "nbconvert_exporter": "python",
      "pygments_lexer": "ipython3",
      "version": "3.13.2"
    }
  },
  "nbformat": 4,
  "nbformat_minor": 0
}