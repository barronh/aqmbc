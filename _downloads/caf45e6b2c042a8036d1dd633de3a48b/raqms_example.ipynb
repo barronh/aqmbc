{
  "cells": [
    {
      "cell_type": "markdown",
      "metadata": {},
      "source": [
        "\n# RAQMS LBC for CMAQ\n\nThis example shows how to use aqmbc with RAQMS's publicly available forecasts.\n\n* Download from RAQMS (only if not available in RAQMS folder).\n* Define translation.\n* Extract and translate.\n* Display figures and statistics.\n"
      ]
    },
    {
      "cell_type": "code",
      "execution_count": null,
      "metadata": {
        "collapsed": false
      },
      "outputs": [],
      "source": [
        "from os.path import basename\nimport aqmbc\nimport glob\nimport pandas as pd\nimport matplotlib.pyplot as plt\n\ngdnam = '12US1'"
      ]
    },
    {
      "cell_type": "markdown",
      "metadata": {},
      "source": [
        "## Download from RAQMS via HTTP\n\n"
      ]
    },
    {
      "cell_type": "code",
      "execution_count": null,
      "metadata": {
        "collapsed": false
      },
      "outputs": [],
      "source": [
        "todayat12z = (\n    pd.to_datetime('now', utc=True).floor('1d') + pd.to_timedelta('12h')\n)\ndates = [todayat12z]\n\naqmbc.models.raqms.download(dates)"
      ]
    },
    {
      "cell_type": "markdown",
      "metadata": {},
      "source": [
        "## Define Translation Expressions\n\n"
      ]
    },
    {
      "cell_type": "code",
      "execution_count": null,
      "metadata": {
        "collapsed": false
      },
      "outputs": [],
      "source": [
        "# In Notebooks, display available expressions\naqmbc.exprlib.avail('raqms')"
      ]
    },
    {
      "cell_type": "code",
      "execution_count": null,
      "metadata": {
        "collapsed": false
      },
      "outputs": [],
      "source": [
        "exprpaths = aqmbc.exprlib.exprpaths([\n    'raqms_o3so4.expr'\n    # 'raqms_to_cb6r4_ae6.expr'  # for full run\n], prefix='raqms')"
      ]
    },
    {
      "cell_type": "markdown",
      "metadata": {},
      "source": [
        "## Translate RAQMS for use by CMAQ\n\n"
      ]
    },
    {
      "cell_type": "code",
      "execution_count": null,
      "metadata": {
        "collapsed": false
      },
      "outputs": [],
      "source": [
        "# For \"real\" VGLVLS use\n# METBDYD_PATH = '...'\n# metaf = pnc.pncopen(METBDY3D_PATH, format='ioapi')\nmetaf = aqmbc.options.getmetaf(bctype='bcon', gdnam=gdnam, vgnam='EPA_35L')\ninpaths = sorted(glob.glob('RAQMS/uwhyb*.nc'))\nbcpaths = []\nsuffix = f'_{gdnam}_BCON.nc'\ngcdims = aqmbc.options.dims['raqms']\nfor inpath in inpaths:\n    print(inpath, flush=True)\n    outpath = basename(inpath).replace('.nc', suffix)\n    history = f'From {outpath}'\n    outf = aqmbc.bc(\n        inpath, outpath, metaf, vmethod='linear', exprpaths=exprpaths,\n        dimkeys=gcdims, format_kw={'format': 'raqms'}, history=history,\n        clobber=True, verbose=0\n    )\n    bcpaths.append(outpath)"
      ]
    },
    {
      "cell_type": "markdown",
      "metadata": {},
      "source": [
        "## Figures and Statistics\n\n"
      ]
    },
    {
      "cell_type": "code",
      "execution_count": null,
      "metadata": {
        "collapsed": false
      },
      "outputs": [],
      "source": [
        "vprof = aqmbc.report.get_vertprof(bcpaths)\nstatdf = aqmbc.report.getstats(bcpaths)\nstatdf.to_csv('raqms_summary.csv')"
      ]
    },
    {
      "cell_type": "markdown",
      "metadata": {},
      "source": [
        "## Visualize Vertical Profiles\n\n"
      ]
    },
    {
      "cell_type": "code",
      "execution_count": null,
      "metadata": {
        "collapsed": false
      },
      "outputs": [],
      "source": [
        "fig = aqmbc.report.plot_2spc_vprof(vprof)\nfig.suptitle('RAQMS Boundary Conditions for CMAQ')\nfig.savefig('raqms_profiles.png')"
      ]
    },
    {
      "cell_type": "markdown",
      "metadata": {},
      "source": [
        "## Barplot of Concentrations\n\n"
      ]
    },
    {
      "cell_type": "code",
      "execution_count": null,
      "metadata": {
        "collapsed": false
      },
      "outputs": [],
      "source": [
        "fig = aqmbc.report.plot_gaspm_bars(statdf)\nfig.savefig('raqms_bar.png')"
      ]
    }
  ],
  "metadata": {
    "kernelspec": {
      "display_name": "Python 3",
      "language": "python",
      "name": "python3"
    },
    "language_info": {
      "codemirror_mode": {
        "name": "ipython",
        "version": 3
      },
      "file_extension": ".py",
      "mimetype": "text/x-python",
      "name": "python",
      "nbconvert_exporter": "python",
      "pygments_lexer": "ipython3",
      "version": "3.13.2"
    }
  },
  "nbformat": 4,
  "nbformat_minor": 0
}