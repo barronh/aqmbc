{
  "cells": [
    {
      "cell_type": "markdown",
      "metadata": {},
      "source": [
        "\n# GEOS-CF LBC for CMAQ\n\nThis example shows how to use aqmbc with GEOS-CF's publicly available OpenDAP.\n\n* Download from NASA GMAO (if not available in %Y/%m/%d folder).\n* Define translation.\n* Extract and translate.\n* Display figures and statistics.\n"
      ]
    },
    {
      "cell_type": "code",
      "execution_count": null,
      "metadata": {
        "collapsed": false
      },
      "outputs": [],
      "source": [
        "from os.path import basename\nimport aqmbc\nimport matplotlib.pyplot as plt\nimport glob\n\ngdnam = '12US1'"
      ]
    },
    {
      "cell_type": "markdown",
      "metadata": {},
      "source": [
        "## Download from GMAO OpenDAP\n\n"
      ]
    },
    {
      "cell_type": "code",
      "execution_count": null,
      "metadata": {
        "collapsed": false
      },
      "outputs": [],
      "source": [
        "dates = ['2023-04-15T12:30', '2023-07-15T12:30']\n# Typical downloading takes ~4 minutes per hour of source data\n# For the tutorial, we only download 'o3' and 'so4' to make it fast.\naqmbc.models.geoscf.download_window(\n    gdnam, dates,\n    chmvars=['o3', 'so4'], xgcvars=[]  # for full run, comment out this line\n)"
      ]
    },
    {
      "cell_type": "markdown",
      "metadata": {},
      "source": [
        "## Define Translation Expressions\n\n"
      ]
    },
    {
      "cell_type": "code",
      "execution_count": null,
      "metadata": {
        "collapsed": false
      },
      "outputs": [],
      "source": [
        "# In Notebooks, display available expressions\naqmbc.exprlib.avail('cf')"
      ]
    },
    {
      "cell_type": "code",
      "execution_count": null,
      "metadata": {
        "collapsed": false
      },
      "outputs": [],
      "source": [
        "# A real run will use geoscf_met.expr, geoscf_cb6.expr and geoscf_ae7.expr\n# For simplicity, we use just a simple ozone exmaple\nexprpaths = aqmbc.exprlib.exprpaths([\n    'geoscf_o3so4.expr'                      # for full run, comment\n    # 'geoscf_met.expr', 'geoscf_cb6.expr',  # for full run, uncomment\n    # 'geoscf_ae7.expr'                      # for full run, uncomment\n], prefix='cf')"
      ]
    },
    {
      "cell_type": "markdown",
      "metadata": {},
      "source": [
        "## Translate GEOS-CF for use by CMAQ\n\n"
      ]
    },
    {
      "cell_type": "code",
      "execution_count": null,
      "metadata": {
        "collapsed": false
      },
      "outputs": [],
      "source": [
        "# For \"real\" VGLVLS use\n# METBDYD_PATH = '...'\n# metaf = pnc.pncopen(METBDY3D_PATH, format='ioapi')\nmetaf = aqmbc.options.getmetaf(bctype='bcon', gdnam=gdnam, vgnam='EPA_35L')\ninpaths = sorted(glob.glob(f'GEOSCF/{gdnam}/????/??/??/geoscf_*.nc'))\nbcpaths = []\nsuffix = f'_{gdnam}_BCON.nc'\ngcdims = aqmbc.options.dims['gc']\nfor inpath in inpaths:\n    print(inpath, flush=True)\n    outpath = basename(inpath).replace('.nc', suffix)\n    history = f'From {outpath}'\n    outf = aqmbc.bc(\n        inpath, outpath, metaf, vmethod='linear', exprpaths=exprpaths,\n        dimkeys=gcdims, format_kw={'format': 'geoscf'}, history=history,\n        clobber=True, verbose=0\n    )\n    bcpaths.append(outpath)"
      ]
    },
    {
      "cell_type": "markdown",
      "metadata": {},
      "source": [
        "## Figures and Statistics\n\n"
      ]
    },
    {
      "cell_type": "code",
      "execution_count": null,
      "metadata": {
        "collapsed": false
      },
      "outputs": [],
      "source": [
        "vprof = aqmbc.report.get_vertprof(bcpaths)\nstatdf = aqmbc.report.getstats(bcpaths)\nstatdf.to_csv('geoscf_summary.csv')"
      ]
    },
    {
      "cell_type": "markdown",
      "metadata": {},
      "source": [
        "## Visualize Vertical Profiles\n\n"
      ]
    },
    {
      "cell_type": "code",
      "execution_count": null,
      "metadata": {
        "collapsed": false
      },
      "outputs": [],
      "source": [
        "fig = aqmbc.report.plot_2spc_vprof(vprof)\nfig.suptitle('GEOS-CF Boundary Conditions for CMAQ')\nfig.savefig('geoscf_profiles.png')"
      ]
    },
    {
      "cell_type": "markdown",
      "metadata": {},
      "source": [
        "## Barplot of Concentrations\n\n"
      ]
    },
    {
      "cell_type": "code",
      "execution_count": null,
      "metadata": {
        "collapsed": false
      },
      "outputs": [],
      "source": [
        "fig = aqmbc.report.plot_gaspm_bars(statdf)\nfig.savefig('geoscf_bar.png')"
      ]
    }
  ],
  "metadata": {
    "kernelspec": {
      "display_name": "Python 3",
      "language": "python",
      "name": "python3"
    },
    "language_info": {
      "codemirror_mode": {
        "name": "ipython",
        "version": 3
      },
      "file_extension": ".py",
      "mimetype": "text/x-python",
      "name": "python",
      "nbconvert_exporter": "python",
      "pygments_lexer": "ipython3",
      "version": "3.13.2"
    }
  },
  "nbformat": 4,
  "nbformat_minor": 0
}