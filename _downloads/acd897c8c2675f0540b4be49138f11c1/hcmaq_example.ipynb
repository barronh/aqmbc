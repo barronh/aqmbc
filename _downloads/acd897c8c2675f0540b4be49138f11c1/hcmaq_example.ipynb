{
  "cells": [
    {
      "cell_type": "markdown",
      "metadata": {},
      "source": [
        "\n# Hemispheric CMAQ LBC for CMAQ\n\nThis example shows how to use aqmbc with a synthetic Hemispheric CMAQ.\n\n* Create synthetic exmaple files.\n* Extract assuming no translation (same gas and aerosols as target).\n* Display figures and statistics.\n"
      ]
    },
    {
      "cell_type": "code",
      "execution_count": null,
      "metadata": {
        "collapsed": false
      },
      "outputs": [],
      "source": [
        "from os.path import basename\nimport aqmbc\nimport numpy as np\nimport matplotlib.pyplot as plt"
      ]
    },
    {
      "cell_type": "markdown",
      "metadata": {},
      "source": [
        "## Create Fake Hemispheric CMAQ Files\n\n"
      ]
    },
    {
      "cell_type": "code",
      "execution_count": null,
      "metadata": {
        "collapsed": false
      },
      "outputs": [],
      "source": [
        "inpaths = [\n    'HCMAQFAKECONC.20190401_0000z.nc4',\n    'HCMAQFAKECONC.20190701_0000z.nc4',\n]\ntmpf = aqmbc.options.getmetaf(\n    bctype='icon', gdnam='5940NHEMI2', vgnam='EPA_44L'\n)\nkeys = ['O3', 'ASO4I', 'ASO4J']\nfor k in keys:\n    v = tmpf.createVariable(k, 'f', ('TSTEP', 'LAY', 'ROW', 'COL'))\n    v.setncatts(dict(long_name=k.ljust(16), var_desc=k.ljust(80)))\n\ntmpf.variables['ASO4I'].units = 'micrograms/m**3'.ljust(16)\ntmpf.variables['ASO4J'].units = 'micrograms/m**3'.ljust(16)\ntmpf.variables['O3'].units = 'ppmV'.ljust(16)\ntgtx = np.log(tmpf.VGLVLS[1:])\no3vals = np.interp(tgtx, np.log([.01, .2, .3, 1]), [1, .1, .06, .04])\nso4vals = np.interp(tgtx, np.log([.01, .2, .6, .9, 1]), [.06, .06, 0.2, 1, 1])\nfor i, (inpath, factor) in enumerate(zip(inpaths, [1, .9])):\n    tmpf.variables['O3'][:] = o3vals[None, :, None, None] * factor\n    tmpf.variables['ASO4I'][:] = so4vals[None, :, None, None] * 0.01 * factor\n    tmpf.variables['ASO4J'][:] = so4vals[None, :, None, None] * 0.99 * factor\n    tmpf.subset(keys).save(inpath, format='NETCDF3_CLASSIC', verbose=0).close()"
      ]
    },
    {
      "cell_type": "markdown",
      "metadata": {},
      "source": [
        "## Tranlate Files and Make Time-independent\n\n"
      ]
    },
    {
      "cell_type": "code",
      "execution_count": null,
      "metadata": {
        "collapsed": false
      },
      "outputs": [],
      "source": [
        "gdnam = '12US1'\nsuffix = f'_{gdnam}_BCON.nc'\nmetaf = aqmbc.options.getmetaf(bctype='bcon', gdnam=gdnam, vgnam='EPA_35L')\n# For \"real\" VGLVLS use\n# METBDYD_PATH = '...'\n# metaf = pnc.pncopen(METCRO3D_PATH, format='ioapi')\n\nbcpaths = []\nfor inpath in inpaths:\n    print(inpath, flush=True)\n    outpath = basename(inpath).replace('.nc4', suffix)\n    history = f'From {outpath}'\n    outf = aqmbc.bc(\n        inpath, outpath, metaf, vmethod='linear',\n        exprpaths=[], format_kw={'format': 'ioapi'}, history=history,\n        clobber=True, verbose=0\n    )\n    if outf is not None:\n        # if not already archived\n        aqmbc.cmaq.timeindependent(outf)\n\n    bcpaths.append(outpath)"
      ]
    },
    {
      "cell_type": "markdown",
      "metadata": {},
      "source": [
        "## Figures and Statistics\n\n"
      ]
    },
    {
      "cell_type": "code",
      "execution_count": null,
      "metadata": {
        "collapsed": false
      },
      "outputs": [],
      "source": [
        "vprof = aqmbc.report.get_vertprof(bcpaths)\nstatdf = aqmbc.report.getstats(bcpaths)\nstatdf.to_csv('hcmaq_summary.csv')"
      ]
    },
    {
      "cell_type": "markdown",
      "metadata": {},
      "source": [
        "## Visualize Vertical Profiles\n\n"
      ]
    },
    {
      "cell_type": "code",
      "execution_count": null,
      "metadata": {
        "collapsed": false
      },
      "outputs": [],
      "source": [
        "fig = aqmbc.report.plot_2spc_vprof(vprof)\nfig.suptitle('Fake Hemispheric CMAQ Boundary Conditions for CMAQ')\nfig.savefig('hcmaq_profiles.png')"
      ]
    },
    {
      "cell_type": "markdown",
      "metadata": {},
      "source": [
        "## Barplot of Concentrations\n\n"
      ]
    },
    {
      "cell_type": "code",
      "execution_count": null,
      "metadata": {
        "collapsed": false
      },
      "outputs": [],
      "source": [
        "fig = aqmbc.report.plot_gaspm_bars(statdf)\nfig.savefig('hcmaq_bar.png')"
      ]
    }
  ],
  "metadata": {
    "kernelspec": {
      "display_name": "Python 3",
      "language": "python",
      "name": "python3"
    },
    "language_info": {
      "codemirror_mode": {
        "name": "ipython",
        "version": 3
      },
      "file_extension": ".py",
      "mimetype": "text/x-python",
      "name": "python",
      "nbconvert_exporter": "python",
      "pygments_lexer": "ipython3",
      "version": "3.13.2"
    }
  },
  "nbformat": 4,
  "nbformat_minor": 0
}