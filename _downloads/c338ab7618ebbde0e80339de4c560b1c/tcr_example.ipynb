{
  "cells": [
    {
      "cell_type": "markdown",
      "metadata": {},
      "source": [
        "\n# TCR LBC for CMAQ\n\nThis example shows how to use aqmbc with TROPESS Composition Reanalysis (TCR)\nfiles, which are available thru NASA Earthdata Search\n\n* Define translation.\n* Extract and translate.\n* Display figures and statistics.\n"
      ]
    },
    {
      "cell_type": "code",
      "execution_count": null,
      "metadata": {
        "collapsed": false
      },
      "outputs": [],
      "source": [
        "import aqmbc\nimport numpy as np\nimport pandas as pd\nimport matplotlib.pyplot as plt\nimport glob\nimport xarray as xr\n\ngdnam = '12US1'"
      ]
    },
    {
      "cell_type": "markdown",
      "metadata": {},
      "source": [
        "## Define Translation Expressions\n\n"
      ]
    },
    {
      "cell_type": "code",
      "execution_count": null,
      "metadata": {
        "collapsed": false
      },
      "outputs": [],
      "source": [
        "# In Notebooks, display available expressions\naqmbc.exprlib.avail('tcr')"
      ]
    },
    {
      "cell_type": "code",
      "execution_count": null,
      "metadata": {
        "collapsed": false
      },
      "outputs": [],
      "source": [
        "exprpaths = aqmbc.exprlib.exprpaths([\n    'tcr_o3so4.expr',                 # for a full run, comment this\n    # 'tcr_cb6.expr', 'tcr_ae7.expr'  # for a full run, uncomment this\n], prefix='tcr')\n\n# For \"real\" VGLVLS use\n# METBDYD_PATH = '...'\n# metaf = pnc.pncopen(METBDY3D_PATH, format='ioapi')\nmetaf = aqmbc.options.getmetaf(bctype='bcon', gdnam=gdnam, vgnam='EPA_35L')\ninpath = sorted(glob.glob(\n    'TCR-2/tropess.gesdisc.eosdis.nasa.gov/data/TCR2_MON_*/*/*.nc'\n))\nsuffix = f'_{gdnam}_BCON.nc'\ndims = aqmbc.options.dims['tcr']\noutpath = f'TROPESS_reanalysis_mon_2021_{gdnam}_BCON.nc'\nhistory = f'From {inpath}'\noutf = aqmbc.bc(\n    inpath, outpath, metaf, vmethod='linear', exprpaths=exprpaths,\n    dimkeys=dims, format_kw={'format': 'tcr'}, history=history,\n    clobber=True, verbose=0\n)"
      ]
    },
    {
      "cell_type": "markdown",
      "metadata": {},
      "source": [
        "## Figures and Statistics\n\n"
      ]
    },
    {
      "cell_type": "code",
      "execution_count": null,
      "metadata": {
        "collapsed": false
      },
      "outputs": [],
      "source": [
        "tflag = (outf['TFLAG'][:, 0, :].astype('l') * np.array([1000000, 1])).sum(1)\ntime = pd.to_datetime(tflag, format='%Y%j%H%M%S')\nvprof = xr.Dataset(\n    data_vars={\n        k: (v.dimensions, v[:], {pk: v.getncattr(pk) for pk in v.ncattrs()})\n        for k, v in outf.variables.items()\n    },\n    coords={'TSTEP': time, 'LAY': (outf.VGLVLS[:-1] + outf.VGLVLS[1:]) / 2}\n).mean('PERIM', keep_attrs=True)\nstatdf = aqmbc.report.getstats([outpath])\nstatdf.to_csv('tcr_summary.csv')"
      ]
    },
    {
      "cell_type": "markdown",
      "metadata": {},
      "source": [
        "## Visualize Vertical Profiles\n\n"
      ]
    },
    {
      "cell_type": "code",
      "execution_count": null,
      "metadata": {
        "collapsed": false
      },
      "outputs": [],
      "source": [
        "fig = aqmbc.report.plot_2spc_vprof(vprof)\nfig.suptitle('TCR Boundary Conditions for CMAQ')\nfig.savefig('tcr_profiles.png')"
      ]
    },
    {
      "cell_type": "markdown",
      "metadata": {},
      "source": [
        "## Barplot of Concentrations\n\n"
      ]
    },
    {
      "cell_type": "code",
      "execution_count": null,
      "metadata": {
        "collapsed": false
      },
      "outputs": [],
      "source": [
        "fig = aqmbc.report.plot_gaspm_bars(statdf)\nfig.savefig('tcr_bar.png')"
      ]
    }
  ],
  "metadata": {
    "kernelspec": {
      "display_name": "Python 3",
      "language": "python",
      "name": "python3"
    },
    "language_info": {
      "codemirror_mode": {
        "name": "ipython",
        "version": 3
      },
      "file_extension": ".py",
      "mimetype": "text/x-python",
      "name": "python",
      "nbconvert_exporter": "python",
      "pygments_lexer": "ipython3",
      "version": "3.13.2"
    }
  },
  "nbformat": 4,
  "nbformat_minor": 0
}